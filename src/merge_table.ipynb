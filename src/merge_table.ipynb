{
 "cells": [
  {
   "cell_type": "code",
   "execution_count": 116,
   "metadata": {
    "collapsed": true
   },
   "outputs": [],
   "source": [
    "import numpy as np\n",
    "import pandas as pd\n",
    "import os \n",
    "import datetime"
   ]
  },
  {
   "cell_type": "code",
   "execution_count": 173,
   "metadata": {},
   "outputs": [],
   "source": [
    "def data_reader():\n",
    "    \"\"\"read data\"\"\"\n",
    "    \n",
    "    data_dir = os.path.join('..', 'data') #/Users/siliangchen/Airbnb\n",
    "\n",
    "    train_path = os.path.join(data_dir, 'train.csv')\n",
    "    meta_path = os.path.join(data_dir, 'metadata.csv')\n",
    "    holiday_path = os.path.join(data_dir, 'holidays.csv')\n",
    "    frequency_path = os.path.join(data_dir, 'submission_frequency.csv')    \n",
    "#     weather_path = os.path.join(data_dir, 'weather.csv')\n",
    "\n",
    "    train = pd.read_csv(train_path)\n",
    "    meta = pd.read_csv(meta_path)\n",
    "    holiday = pd.read_csv(holiday_path)\n",
    "    frequency = pd.read_csv(frequency_path)\n",
    "#     weather = pd.read_csv(weather_path)\n",
    "    \n",
    "    return train, meta, holiday, frequency  "
   ]
  },
  {
   "cell_type": "code",
   "execution_count": 174,
   "metadata": {
    "collapsed": true
   },
   "outputs": [],
   "source": [
    "def data_transfomer(train, holiday, frequency):\n",
    "    \"\"\"transform some table format\"\"\"\n",
    "    \n",
    "    # deal with train df\n",
    "    train['Timestamp'] = train['Timestamp'].astype('datetime64[ns]')\n",
    "    train['Weekday'] = train['Timestamp'].apply(lambda x: x.weekday()) \n",
    "    train['Date'] =  train['Timestamp'].apply(lambda x: x.date())    \n",
    "    \n",
    "    # deal with holiday df\n",
    "    del holiday['Unnamed: 0']\n",
    "    holiday['Date'] = holiday['Date'].astype('datetime64[ns]').apply(lambda x: x.date())    \n",
    "    \n",
    "    # deal with frequency df\n",
    "    frequency['ForecastPeriodNS'] = frequency['ForecastPeriodNS'].map({900000000000: '15mins', \n",
    "                                                                      3600000000000: '1hour',\n",
    "                                                                      86400000000000: '1day'})\n",
    "            \n",
    "    return train, holiday, frequency"
   ]
  },
  {
   "cell_type": "code",
   "execution_count": 148,
   "metadata": {},
   "outputs": [],
   "source": [
    "def data_merger(train, meta, holiday, frequency):\n",
    "    \"\"\"merge multiple tables together\"\"\"    \n",
    "\n",
    "    # create onoff feature\n",
    "    onoff = meta[['SiteId','FridayIsDayOff','SaturdayIsDayOff','SundayIsDayOff']].melt('SiteId').rename(columns={'variable':'Weekday','value':'OnAndOff'})\n",
    "    onoff['Weekday'] = onoff['Weekday'].map({'FridayIsDayOff': 4, \n",
    "                                             'SaturdayIsDayOff': 5,\n",
    "                                             'SundayIsDayOff': 6})\n",
    "    # drop unneeded columns in meta\n",
    "    meta = meta.drop(['MondayIsDayOff','TuesdayIsDayOff','WednesdayIsDayOff','ThursdayIsDayOff','FridayIsDayOff','SaturdayIsDayOff','SundayIsDayOff'], axis=1)\n",
    "\n",
    "    # merge tables\n",
    "    result = pd.merge(train, frequency,  on='ForecastId', how='left')\n",
    "    result = pd.merge(result, holiday,  on=['SiteId','Date'], how='left')\n",
    "    result = pd.merge(result, onoff,  on=['SiteId','Weekday'], how='left')\n",
    "    result = pd.merge(result, meta,  on='SiteId', how='left')\n",
    "\n",
    "    # create isHoliday column\n",
    "    result['isHoliday'] = result['Holiday'].notnull()\n",
    "\n",
    "    # fill OnAndOff with False when weekday in 0-3 (Monday to Thursday) \n",
    "    result.loc[result.Weekday.isin([0,1,2,3]) , 'OnAndOff'] = False\n",
    "\n",
    "    return result"
   ]
  },
  {
   "cell_type": "code",
   "execution_count": 179,
   "metadata": {},
   "outputs": [],
   "source": [
    "train, meta, holiday, frequency = data_reader()"
   ]
  },
  {
   "cell_type": "code",
   "execution_count": 180,
   "metadata": {},
   "outputs": [],
   "source": [
    "train, holiday, frequency = data_transfomer(train, holiday, frequency)"
   ]
  },
  {
   "cell_type": "code",
   "execution_count": 182,
   "metadata": {},
   "outputs": [],
   "source": [
    "train_final = data_merger(train, meta, holiday, frequency)"
   ]
  },
  {
   "cell_type": "code",
   "execution_count": 185,
   "metadata": {},
   "outputs": [],
   "source": [
    "# train_final.isnull().sum()/train_final.shape[0]"
   ]
  },
  {
   "cell_type": "code",
   "execution_count": 184,
   "metadata": {},
   "outputs": [
    {
     "data": {
      "text/html": [
       "<div>\n",
       "<style>\n",
       "    .dataframe thead tr:only-child th {\n",
       "        text-align: right;\n",
       "    }\n",
       "\n",
       "    .dataframe thead th {\n",
       "        text-align: left;\n",
       "    }\n",
       "\n",
       "    .dataframe tbody tr th {\n",
       "        vertical-align: top;\n",
       "    }\n",
       "</style>\n",
       "<table border=\"1\" class=\"dataframe\">\n",
       "  <thead>\n",
       "    <tr style=\"text-align: right;\">\n",
       "      <th></th>\n",
       "      <th>obs_id</th>\n",
       "      <th>SiteId</th>\n",
       "      <th>Timestamp</th>\n",
       "      <th>ForecastId</th>\n",
       "      <th>Value</th>\n",
       "      <th>Weekday</th>\n",
       "      <th>Date</th>\n",
       "      <th>ForecastPeriodNS</th>\n",
       "      <th>Holiday</th>\n",
       "      <th>OnAndOff</th>\n",
       "      <th>Surface</th>\n",
       "      <th>Sampling</th>\n",
       "      <th>BaseTemperature</th>\n",
       "      <th>isHoliday</th>\n",
       "    </tr>\n",
       "  </thead>\n",
       "  <tbody>\n",
       "    <tr>\n",
       "      <th>0</th>\n",
       "      <td>744519</td>\n",
       "      <td>1</td>\n",
       "      <td>2014-09-03</td>\n",
       "      <td>1</td>\n",
       "      <td>9.096555e+05</td>\n",
       "      <td>2</td>\n",
       "      <td>2014-09-03</td>\n",
       "      <td>1day</td>\n",
       "      <td>NaN</td>\n",
       "      <td>False</td>\n",
       "      <td>1387.205119</td>\n",
       "      <td>15.0</td>\n",
       "      <td>18.0</td>\n",
       "      <td>False</td>\n",
       "    </tr>\n",
       "    <tr>\n",
       "      <th>1</th>\n",
       "      <td>7627564</td>\n",
       "      <td>1</td>\n",
       "      <td>2014-09-04</td>\n",
       "      <td>1</td>\n",
       "      <td>1.748273e+06</td>\n",
       "      <td>3</td>\n",
       "      <td>2014-09-04</td>\n",
       "      <td>1day</td>\n",
       "      <td>NaN</td>\n",
       "      <td>False</td>\n",
       "      <td>1387.205119</td>\n",
       "      <td>15.0</td>\n",
       "      <td>18.0</td>\n",
       "      <td>False</td>\n",
       "    </tr>\n",
       "    <tr>\n",
       "      <th>2</th>\n",
       "      <td>7034705</td>\n",
       "      <td>1</td>\n",
       "      <td>2014-09-05</td>\n",
       "      <td>1</td>\n",
       "      <td>NaN</td>\n",
       "      <td>4</td>\n",
       "      <td>2014-09-05</td>\n",
       "      <td>1day</td>\n",
       "      <td>NaN</td>\n",
       "      <td>False</td>\n",
       "      <td>1387.205119</td>\n",
       "      <td>15.0</td>\n",
       "      <td>18.0</td>\n",
       "      <td>False</td>\n",
       "    </tr>\n",
       "    <tr>\n",
       "      <th>3</th>\n",
       "      <td>5995486</td>\n",
       "      <td>1</td>\n",
       "      <td>2014-09-06</td>\n",
       "      <td>1</td>\n",
       "      <td>NaN</td>\n",
       "      <td>5</td>\n",
       "      <td>2014-09-06</td>\n",
       "      <td>1day</td>\n",
       "      <td>NaN</td>\n",
       "      <td>True</td>\n",
       "      <td>1387.205119</td>\n",
       "      <td>15.0</td>\n",
       "      <td>18.0</td>\n",
       "      <td>False</td>\n",
       "    </tr>\n",
       "    <tr>\n",
       "      <th>4</th>\n",
       "      <td>7326510</td>\n",
       "      <td>1</td>\n",
       "      <td>2014-09-07</td>\n",
       "      <td>1</td>\n",
       "      <td>NaN</td>\n",
       "      <td>6</td>\n",
       "      <td>2014-09-07</td>\n",
       "      <td>1day</td>\n",
       "      <td>NaN</td>\n",
       "      <td>True</td>\n",
       "      <td>1387.205119</td>\n",
       "      <td>15.0</td>\n",
       "      <td>18.0</td>\n",
       "      <td>False</td>\n",
       "    </tr>\n",
       "  </tbody>\n",
       "</table>\n",
       "</div>"
      ],
      "text/plain": [
       "    obs_id  SiteId  Timestamp  ForecastId         Value  Weekday        Date  \\\n",
       "0   744519       1 2014-09-03           1  9.096555e+05        2  2014-09-03   \n",
       "1  7627564       1 2014-09-04           1  1.748273e+06        3  2014-09-04   \n",
       "2  7034705       1 2014-09-05           1           NaN        4  2014-09-05   \n",
       "3  5995486       1 2014-09-06           1           NaN        5  2014-09-06   \n",
       "4  7326510       1 2014-09-07           1           NaN        6  2014-09-07   \n",
       "\n",
       "  ForecastPeriodNS Holiday OnAndOff      Surface  Sampling  BaseTemperature  \\\n",
       "0             1day     NaN    False  1387.205119      15.0             18.0   \n",
       "1             1day     NaN    False  1387.205119      15.0             18.0   \n",
       "2             1day     NaN    False  1387.205119      15.0             18.0   \n",
       "3             1day     NaN     True  1387.205119      15.0             18.0   \n",
       "4             1day     NaN     True  1387.205119      15.0             18.0   \n",
       "\n",
       "   isHoliday  \n",
       "0      False  \n",
       "1      False  \n",
       "2      False  \n",
       "3      False  \n",
       "4      False  "
      ]
     },
     "execution_count": 184,
     "metadata": {},
     "output_type": "execute_result"
    }
   ],
   "source": [
    "train_final.head()"
   ]
  },
  {
   "cell_type": "code",
   "execution_count": 186,
   "metadata": {
    "collapsed": true
   },
   "outputs": [],
   "source": [
    "train_15min = train_final[train_final.ForecastPeriodNS=='15mins']\n",
    "train_1hour = train_final[train_final.ForecastPeriodNS=='1hour']\n",
    "train_1day = train_final[train_final.ForecastPeriodNS=='1day']"
   ]
  },
  {
   "cell_type": "code",
   "execution_count": 187,
   "metadata": {},
   "outputs": [
    {
     "data": {
      "text/plain": [
       "(5250620, 14)"
      ]
     },
     "execution_count": 187,
     "metadata": {},
     "output_type": "execute_result"
    }
   ],
   "source": [
    "train_15min.shape"
   ]
  },
  {
   "cell_type": "code",
   "execution_count": 188,
   "metadata": {},
   "outputs": [
    {
     "data": {
      "text/plain": [
       "(1260136, 14)"
      ]
     },
     "execution_count": 188,
     "metadata": {},
     "output_type": "execute_result"
    }
   ],
   "source": [
    "train_1hour.shape"
   ]
  },
  {
   "cell_type": "code",
   "execution_count": 189,
   "metadata": {},
   "outputs": [
    {
     "data": {
      "text/plain": [
       "(52864, 14)"
      ]
     },
     "execution_count": 189,
     "metadata": {},
     "output_type": "execute_result"
    }
   ],
   "source": [
    "train_1day.shape"
   ]
  },
  {
   "cell_type": "markdown",
   "metadata": {},
   "source": [
    "---"
   ]
  },
  {
   "cell_type": "markdown",
   "metadata": {},
   "source": [
    "# Moving Average"
   ]
  },
  {
   "cell_type": "markdown",
   "metadata": {},
   "source": [
    "* Append with test data\n",
    "* Make lag1-3 features groupby siteid, forecastid"
   ]
  }
 ],
 "metadata": {
  "kernelspec": {
   "display_name": "Python 3",
   "language": "python",
   "name": "python3"
  },
  "language_info": {
   "codemirror_mode": {
    "name": "ipython",
    "version": 3
   },
   "file_extension": ".py",
   "mimetype": "text/x-python",
   "name": "python",
   "nbconvert_exporter": "python",
   "pygments_lexer": "ipython3",
   "version": "3.6.3"
  }
 },
 "nbformat": 4,
 "nbformat_minor": 2
}
